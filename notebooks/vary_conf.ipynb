{
 "cells": [
  {
   "cell_type": "code",
   "execution_count": null,
   "metadata": {},
   "outputs": [],
   "source": [
    "import sys\n",
    "sys.path.append('..')\n",
    "\n",
    "import numpy as np\n",
    "import pandas as pd\n",
    "import matplotlib.pyplot as plt\n",
    "from datetime import datetime\n",
    "\n",
    "from data.binary import BinaryCauseData\n",
    "from data.continuous import GaussianData\n",
    "from algorithm.base_test import TwoSampleConfounderTest\n",
    "\n",
    "from experiment import fast_experiment, fast2_experiment, save_results\n",
    "from plot_tools import plot_experiment_results, set_mpl_default_settings\n",
    "\n",
    "set_mpl_default_settings()\n"
   ]
  },
  {
   "cell_type": "markdown",
   "metadata": {},
   "source": [
    "# Experiment: Vary effect size of confounder"
   ]
  },
  {
   "cell_type": "code",
   "execution_count": null,
   "metadata": {},
   "outputs": [],
   "source": [
    "load = False\n",
    "vary_lambda_only = False\n",
    "\n",
    "# Data and algorithm\n",
    "SimulateClass = BinaryCauseData\n",
    "TestClass_list = TwoSampleConfounderTest\n",
    "\n",
    "# Experiment parameters\n",
    "nbr_env = [i for i in range(500, 4500, 500)]\n",
    "nbr_samples = [2]\n",
    "repetitions = 50\n",
    "sign_level = 0.05\n",
    "\n",
    "# Dataset\n",
    "if vary_lambda_only is True:\n",
    "     # Run experiment where we only vary lambda (experiment in Appendix)\n",
    "     conf_strength = [1]\n",
    "     dist_param = []\n",
    "     for lam in list(np.linspace(0, 15.0, 20)):\n",
    "          dist_param.append({'X': {'a': 0.0, 'b': 1},\n",
    "                              'Y': {'a': 0.0, 'b': 1},\n",
    "                              'T': {'a': 0.0, 'b': 1},\n",
    "                              'X_beta' : lam\n",
    "                              })\n",
    "else:\n",
    "     conf_strength = list(np.linspace(0, 15.0, 20))\n",
    "     dist_param = {'X': {'a': 0.0, 'b': 1},\n",
    "                    'Y': {'a': 0.0, 'b': 1},\n",
    "                    'T': {'a': 0.0, 'b': 1}\n",
    "                         }\n",
    "\n",
    "# Get timestamp for experiment\n",
    "now = datetime.now()\n",
    "timestamp = now.strftime(\"%m%d%H%M\")\n",
    "print('Timestamp:', timestamp)"
   ]
  },
  {
   "cell_type": "code",
   "execution_count": null,
   "metadata": {},
   "outputs": [],
   "source": [
    "if not load:\n",
    "    if vary_lambda_only:\n",
    "        experiment_results  = fast_experiment(dist_param,\n",
    "                                                    nbr_env,\n",
    "                                                    nbr_samples,\n",
    "                                                    conf_strength,\n",
    "                                                    SimulateClass, \n",
    "                                                    TestClass_list, \n",
    "                                                    repetitions=repetitions, \n",
    "                                                    sign_level=sign_level, \n",
    "                                                    nbr_proc=4)\n",
    "\n",
    "    else:\n",
    "        experiment_results  = fast2_experiment(dist_param,\n",
    "                                                nbr_env,\n",
    "                                                nbr_samples,\n",
    "                                                conf_strength,\n",
    "                                                SimulateClass, \n",
    "                                                TestClass_list, \n",
    "                                                repetitions=repetitions, \n",
    "                                                sign_level=sign_level, \n",
    "                                                nbr_proc=1,\n",
    "                                                compute_bias=True)\n",
    "\n",
    "    save_results(experiment_results, f'exp_res_bias', timestamp)\n"
   ]
  },
  {
   "cell_type": "markdown",
   "metadata": {},
   "source": [
    "# Plot results"
   ]
  },
  {
   "cell_type": "code",
   "execution_count": null,
   "metadata": {},
   "outputs": [],
   "source": [
    "if load:\n",
    "    # Load data\n",
    "    timestamp_str = \"05251725\"\n",
    "    timestamp = int(timestamp_str)\n",
    "    path = f'results/exp_res_bias_{timestamp_str}.csv'\n",
    "\n",
    "    path = 'results/example1_continuous_gamma.csv'\n",
    "\n",
    "    experiment_results = pd.read_csv(path)"
   ]
  },
  {
   "cell_type": "code",
   "execution_count": null,
   "metadata": {},
   "outputs": [],
   "source": [
    "if not vary_lambda_only:\n",
    "    experiment_results.sort_values('avg_bias', inplace=True)\n",
    "\n",
    "    fixed_env_res = experiment_results[experiment_results.nbr_env == nbr_env[-1]]\n",
    "    fixed_env_res.plot.scatter('avg_bias', 'reject_rate')\n",
    "\n",
    "    path = f'results/figures/bias_{timestamp}.pdf'\n",
    "    plt.savefig(path, format='pdf', bbox_inches='tight')"
   ]
  },
  {
   "cell_type": "code",
   "execution_count": null,
   "metadata": {},
   "outputs": [],
   "source": [
    "plot_experiment_results(experiment_results, vary_lambda_only=vary_lambda_only)\n",
    "\n",
    "path = f'results/figures/vary_conf_{timestamp}.pdf'\n",
    "if vary_lambda_only:\n",
    "    plt.ylabel('Effect size $\\lambda$')\n",
    "plt.savefig(path, format='pdf', bbox_inches='tight')"
   ]
  },
  {
   "cell_type": "code",
   "execution_count": null,
   "metadata": {},
   "outputs": [],
   "source": [
    "experiment_results"
   ]
  }
 ],
 "metadata": {
  "interpreter": {
   "hash": "37fca3988ddb6aaabeb4844171b7eb820257357272ea2dfe95297d34f3bc7351"
  },
  "kernelspec": {
   "display_name": "Python 3.9.12 ('CI')",
   "language": "python",
   "name": "python3"
  },
  "language_info": {
   "codemirror_mode": {
    "name": "ipython",
    "version": 3
   },
   "file_extension": ".py",
   "mimetype": "text/x-python",
   "name": "python",
   "nbconvert_exporter": "python",
   "pygments_lexer": "ipython3",
   "version": "3.9.12"
  },
  "orig_nbformat": 4
 },
 "nbformat": 4,
 "nbformat_minor": 2
}
