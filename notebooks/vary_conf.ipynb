{
 "cells": [
  {
   "cell_type": "code",
   "execution_count": null,
   "metadata": {},
   "outputs": [],
   "source": [
    "import sys\n",
    "sys.path.append('..')\n",
    "\n",
    "import numpy as np\n",
    "import pandas as pd\n",
    "import matplotlib.pyplot as plt\n",
    "from datetime import datetime\n",
    "\n",
    "from data.linear.binary import BinaryLinearData\n",
    "from data.linear.continuous import GaussianLinearData\n",
    "from algorithm.general import GConfounderTest, PearsonConfounderTest\n",
    "\n",
    "from experiment.utils import run, save_results\n",
    "from experiment.plot import plot_vary_conf, set_mpl_default_settings\n",
    "\n",
    "set_mpl_default_settings()"
   ]
  },
  {
   "cell_type": "markdown",
   "metadata": {},
   "source": [
    "# Experiment: Vary effect size of confounder"
   ]
  },
  {
   "cell_type": "code",
   "execution_count": null,
   "metadata": {},
   "outputs": [],
   "source": [
    "load = False\n",
    "\n",
    "\n",
    "# Data and algorithm\n",
    "simulate_class = BinaryLinearData  \n",
    "test_method = GConfounderTest()\n",
    "\n",
    "# Experiment parameters\n",
    "\n",
    "nbr_env = [i for i in range(100, 2100, 100)]\n",
    "nbr_samples = [2]\n",
    "repetitions = 500\n",
    "sign_level = 0.05\n",
    "vary_both_mechanisms = False # decide whether to vary confounder effect size to both T and Y, or only Y\n",
    "compute_bias = False\n",
    "conf_strength = list(np.linspace(0, 10.0, 20))\n",
    "dist_param =  {'X': {'a': 0.0, 'b': 1},\n",
    "               'Y': {'a': 0.0, 'b': 1},\n",
    "               'T': {'a': 0.0, 'b': 1}\n",
    "                    }\n",
    "\n",
    "# Get timestamp for experiment\n",
    "now = datetime.now()\n",
    "timestamp = now.strftime(\"%m%d%H%M\")\n",
    "print('Timestamp:', timestamp)"
   ]
  },
  {
   "cell_type": "code",
   "execution_count": null,
   "metadata": {},
   "outputs": [],
   "source": [
    "if not load: # run new experiment\n",
    "\n",
    "    path = f'./results/vary_conf_{timestamp}.csv'\n",
    "    out = run([dist_param, nbr_env, nbr_samples, conf_strength, simulate_class, test_method, repetitions, sign_level, compute_bias, vary_both_mechanisms], \n",
    "               save_during_run=path)\n",
    "    experiment_results = pd.concat(out)\n",
    "\n",
    "else: # load old experiment\n",
    "    \n",
    "    timestamp_str = \"11222131\"\n",
    "    timestamp = int(timestamp_str)\n",
    "    path = f'results/vary_conf_{timestamp_str}.csv'\n",
    "    experiment_results = pd.read_csv(path)"
   ]
  },
  {
   "cell_type": "markdown",
   "metadata": {},
   "source": [
    "# Plot results"
   ]
  },
  {
   "cell_type": "code",
   "execution_count": null,
   "metadata": {},
   "outputs": [],
   "source": [
    "plot_vary_conf(experiment_results)\n",
    "if not vary_both_mechanisms:\n",
    "    plt.ylabel('Parameter $\\lambda$')\n",
    "else:\n",
    "    plt.ylabel('Parameters $\\lambda=\\gamma$')\n",
    "\n",
    "path = f'results/figures/vary_conf_{timestamp}.pdf'\n",
    "plt.savefig(path, format='pdf', bbox_inches='tight')"
   ]
  }
 ],
 "metadata": {
  "kernelspec": {
   "display_name": "Python 3.10.6 ('CI2')",
   "language": "python",
   "name": "python3"
  },
  "language_info": {
   "codemirror_mode": {
    "name": "ipython",
    "version": 3
   },
   "file_extension": ".py",
   "mimetype": "text/x-python",
   "name": "python",
   "nbconvert_exporter": "python",
   "pygments_lexer": "ipython3",
   "version": "3.10.6"
  },
  "orig_nbformat": 4,
  "vscode": {
   "interpreter": {
    "hash": "1119f8550b2138f5de574d3adbc9d9c628b005f552be6d04a225ae36781ad7c3"
   }
  }
 },
 "nbformat": 4,
 "nbformat_minor": 2
}
