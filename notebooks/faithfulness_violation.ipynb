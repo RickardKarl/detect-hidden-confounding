{
 "cells": [
  {
   "cell_type": "code",
   "execution_count": null,
   "metadata": {},
   "outputs": [],
   "source": [
    "import sys\n",
    "sys.path.append('..')\n",
    "\n",
    "import os \n",
    "\n",
    "from datetime import datetime\n",
    "\n",
    "import matplotlib.pyplot as plt\n",
    "import numpy as np\n",
    "import pandas as pd\n",
    "\n",
    "from data.continuous import GaussianData\n",
    "from algorithm.base_test import TwoSampleConfounderTest\n",
    "\n",
    "from experiment import fast_experiment, save_results\n"
   ]
  },
  {
   "cell_type": "markdown",
   "metadata": {},
   "source": [
    "# Experiment: Illustrate faithfulness violation"
   ]
  },
  {
   "cell_type": "code",
   "execution_count": null,
   "metadata": {},
   "outputs": [],
   "source": [
    "load = False\n",
    "\n",
    "# Data and algorithm\n",
    "SimulateClass = GaussianData\n",
    "TestClass = TwoSampleConfounderTest\n",
    "\n",
    "# Experiment parameters\n",
    "nbr_env = [1000]\n",
    "nbr_samples = [2]\n",
    "repetitions = 100\n",
    "sign_level = 0.05\n",
    "\n",
    "# Dataset\n",
    "conf_strength = [1]\n",
    "t_sigma = 2/3\n",
    "x_sigma = 1\n",
    "dist_param_list = []\n",
    "for t_b in list(np.linspace(0,5,16)):\n",
    "     for x_b in list(np.linspace(0,5,16)):\n",
    "\n",
    "          dist_param_list.append({ 'X': {'a': 0.0, 'b': x_b},\n",
    "                                   'Y': {'a': 0.0, 'b': 1},\n",
    "                                   'T': {'a': 0.0, 'b': t_b},\n",
    "                                   'T_sigma' : t_sigma,\n",
    "                                   'X_sigma' : x_sigma\n",
    "                                        })\n",
    "\n",
    "# Get timestamp for experiment\n",
    "now = datetime.now()\n",
    "timestamp = now.strftime(\"%m%d%H%M\")\n",
    "print('Timestamp:', timestamp)"
   ]
  },
  {
   "cell_type": "code",
   "execution_count": null,
   "metadata": {},
   "outputs": [],
   "source": [
    "if not load:\n",
    "    experiment_results = fast_experiment(dist_param_list,\n",
    "                                        nbr_env,\n",
    "                                        nbr_samples,\n",
    "                                        conf_strength,\n",
    "                                        SimulateClass,\n",
    "                                        TestClass,\n",
    "                                        repetitions,\n",
    "                                        sign_level,\n",
    "                                        nbr_proc=2\n",
    "                                        )\n",
    "    save_results(experiment_results, f'exp_res_faith', timestamp)"
   ]
  },
  {
   "cell_type": "markdown",
   "metadata": {},
   "source": [
    "# Plot results"
   ]
  },
  {
   "cell_type": "code",
   "execution_count": null,
   "metadata": {},
   "outputs": [],
   "source": [
    "import matplotlib.pyplot as plt\n",
    "from plot_tools import contour_plot, set_mpl_default_settings\n",
    "\n",
    "set_mpl_default_settings()"
   ]
  },
  {
   "cell_type": "code",
   "execution_count": null,
   "metadata": {},
   "outputs": [],
   "source": [
    "if load:\n",
    "    # Load data\n",
    "    timestamp_str = \"000\"\n",
    "    timestamp = int(timestamp_str)\n",
    "    path = f'results/exp_res_faith_{timestamp_str}.csv'\n",
    "    experiment_results = pd.read_csv(path)"
   ]
  },
  {
   "cell_type": "code",
   "execution_count": null,
   "metadata": {},
   "outputs": [],
   "source": [
    "fixed_nbr_env = nbr_env[0]\n",
    "fixed_nbr_samples = nbr_samples[0]\n",
    "fixed_conf_strength = conf_strength[0]\n",
    "\n",
    "print(f'Number of samples: {fixed_nbr_samples}\\nNumber of environments: {fixed_nbr_env}\\nConfounder strength: {fixed_conf_strength}')\n",
    "contour_plot(experiment_results, fixed_nbr_samples, fixed_nbr_env, fixed_conf_strength)\n",
    "plt.plot([0, 5],[0, x_sigma/t_sigma*5], color='red')\n",
    "plt.ylim([0,5])\n",
    "plt.xlim([0,5])\n",
    "plt.yticks([0,1,2,3,4,5])\n",
    "plt.xticks([0,1,2,3,4,5])\n",
    "\n",
    "path = os.path.join('results/figures', f'f_viol_{timestamp}')\n",
    "plt.savefig(path+'.pdf', format='pdf', bbox_inches='tight')"
   ]
  }
 ],
 "metadata": {
  "interpreter": {
   "hash": "37fca3988ddb6aaabeb4844171b7eb820257357272ea2dfe95297d34f3bc7351"
  },
  "kernelspec": {
   "display_name": "Python 3.9.12 ('CI')",
   "language": "python",
   "name": "python3"
  },
  "language_info": {
   "codemirror_mode": {
    "name": "ipython",
    "version": 3
   },
   "file_extension": ".py",
   "mimetype": "text/x-python",
   "name": "python",
   "nbconvert_exporter": "python",
   "pygments_lexer": "ipython3",
   "version": "3.9.12"
  },
  "orig_nbformat": 4
 },
 "nbformat": 4,
 "nbformat_minor": 2
}
