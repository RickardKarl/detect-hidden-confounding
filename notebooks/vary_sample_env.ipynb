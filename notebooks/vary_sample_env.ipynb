{
 "cells": [
  {
   "cell_type": "code",
   "execution_count": null,
   "metadata": {},
   "outputs": [],
   "source": [
    "import sys\n",
    "sys.path.append('..')\n",
    "\n",
    "import numpy as np\n",
    "import pandas as pd\n",
    "from datetime import datetime\n",
    "import matplotlib as mpl \n",
    "\n",
    "from data.binary import BinaryCauseData\n",
    "\n",
    "from algorithm.permutation_test import PermutationConfounderTest\n",
    "\n",
    "from experiment import sample_efficiency, save_results"
   ]
  },
  {
   "cell_type": "markdown",
   "metadata": {},
   "source": [
    "# Experiment: Vary number of samples and environments with permutation based procedure"
   ]
  },
  {
   "cell_type": "code",
   "execution_count": null,
   "metadata": {},
   "outputs": [],
   "source": [
    "load = False\n",
    "\n",
    "# Data and algorithm\n",
    "SimulateClass = BinaryCauseData\n",
    "TestClass_list = [PermutationConfounderTest]\n",
    "\n",
    "# Experiment parameters\n",
    "nbr_env = [25, 100, 200]\n",
    "nbr_samples = [25, 50, 100, 200, 400, 800, 1600]\n",
    "repetitions = 25\n",
    "sign_level = 0.05\n",
    "\n",
    "# Fixed dataset\n",
    "conf_strength = [1]\n",
    "dist_param = {'X': {'a': 0.0, 'b': 1},\n",
    "              'Y': {'a': 0.0, 'b': 1},\n",
    "              'T': {'a': 0.0, 'b': 1}\n",
    "                   }\n",
    "\n",
    "# Get timestamp for experiment\n",
    "now = datetime.now()\n",
    "timestamp = now.strftime(\"%m%d%H%M\")\n",
    "print('Timestamp:', timestamp)\n"
   ]
  },
  {
   "cell_type": "code",
   "execution_count": null,
   "metadata": {},
   "outputs": [],
   "source": [
    "if not load:\n",
    "    experiment_results  =sample_efficiency(dist_param,\n",
    "                                            nbr_env,\n",
    "                                            nbr_samples,\n",
    "                                            conf_strength,\n",
    "                                            SimulateClass, \n",
    "                                            TestClass_list, \n",
    "                                            repetitions=repetitions, \n",
    "                                            sign_level=sign_level)\n",
    "\n",
    "    for alg_name in experiment_results:\n",
    "\n",
    "        save_results(experiment_results[alg_name], f'exp_res_{alg_name}', timestamp)\n"
   ]
  },
  {
   "cell_type": "markdown",
   "metadata": {},
   "source": [
    "# Plot results"
   ]
  },
  {
   "cell_type": "code",
   "execution_count": null,
   "metadata": {},
   "outputs": [],
   "source": [
    "import matplotlib.pyplot as plt\n",
    "from plot_tools import plot_curve, set_mpl_default_settings\n",
    "\n",
    "set_mpl_default_settings()"
   ]
  },
  {
   "cell_type": "code",
   "execution_count": null,
   "metadata": {},
   "outputs": [],
   "source": [
    "if load:\n",
    "    # Load data\n",
    "    timestamp_str = \"05171530\"\n",
    "    alg_list = ['PermutationConfounderTest']\n",
    "    timestamp = int(timestamp_str)\n",
    "\n",
    "    experiment_results = {}\n",
    "    for alg in alg_list:\n",
    "        path = f'results/exp_res_{alg}_{timestamp_str}.csv'\n",
    "        df = pd.read_csv(path)\n",
    "        df.sort_values('nbr_samples', inplace=True)\n",
    "        experiment_results[alg] = df\n",
    "\n",
    "def filter_experiment(exp_dict : dict, conf_strength : float) -> dict:\n",
    "    \n",
    "    new_exp_dict = {}\n",
    "    for alg in exp_dict:\n",
    "        df = exp_dict[alg]\n",
    "        new_exp_dict[alg] = df[(np.abs(df.confounder_strength - conf_strength) < 1e-3)]\n",
    "    return new_exp_dict\n"
   ]
  },
  {
   "cell_type": "markdown",
   "metadata": {},
   "source": [
    "## Type 1 error with either fixed nbr of environments or fixed nbr of samples"
   ]
  },
  {
   "cell_type": "code",
   "execution_count": null,
   "metadata": {},
   "outputs": [],
   "source": [
    "# Type 1 error\n",
    "fixed_nbr_samples = nbr_samples[-1]\n",
    "confounder_strength = 1\n",
    "\n",
    "\n",
    "\n",
    "# Experiment parameters to show\n",
    "fixed_nbr_env = [25, 100, 200]\n",
    "\n",
    "for e in fixed_nbr_env:\n",
    "\n",
    "    tmp_res = filter_experiment(experiment_results, confounder_strength)\n",
    "    \n",
    "    plot_curve(tmp_res,\n",
    "                'nbr_samples',\n",
    "                e,\n",
    "                label=f'K={e}',\n",
    "                iter=25)\n",
    "\n",
    "plt.ylabel('Probability of detection')\n",
    "#plt.xscale(mpl.scale.LogScale(axis=0,base=2))\n",
    "#plt.xticks(nbr_samples, labels=nbr_samples)\n",
    "#plt.title(f'nbr_env={fixed_nbr_env}, conf_strength={confounder_strength}')\n",
    "plt.legend()\n",
    "\n",
    "\n",
    "path = f'results/figures/sample_gamma{confounder_strength}_{timestamp}.pdf'\n",
    "plt.savefig(path, format='pdf', bbox_inches='tight')"
   ]
  },
  {
   "cell_type": "code",
   "execution_count": null,
   "metadata": {},
   "outputs": [],
   "source": [
    "# Type 2 error\n",
    "confounder_strength = 0.0\n",
    "tmp_res = filter_experiment(experiment_results, confounder_strength)\n",
    "\n",
    "plot_curve(tmp_res, 'nbr_samples', fixed_nbr_env)\n",
    "plt.ylabel('Type 2 error')\n",
    "plt.title(f'nbr_env={fixed_nbr_env}, conf_strength={confounder_strength}')\n",
    "\n",
    "path = f'results/figures/sample_type2_{timestamp}.pdf'\n",
    "plt.savefig(path, format='pdf', bbox_inches='tight')"
   ]
  }
 ],
 "metadata": {
  "interpreter": {
   "hash": "37fca3988ddb6aaabeb4844171b7eb820257357272ea2dfe95297d34f3bc7351"
  },
  "kernelspec": {
   "display_name": "Python 3.9.12 ('CI')",
   "language": "python",
   "name": "python3"
  },
  "language_info": {
   "codemirror_mode": {
    "name": "ipython",
    "version": 3
   },
   "file_extension": ".py",
   "mimetype": "text/x-python",
   "name": "python",
   "nbconvert_exporter": "python",
   "pygments_lexer": "ipython3",
   "version": "3.9.12"
  },
  "orig_nbformat": 4
 },
 "nbformat": 4,
 "nbformat_minor": 2
}
